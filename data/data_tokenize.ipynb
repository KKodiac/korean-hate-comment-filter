{
 "cells": [
  {
   "cell_type": "markdown",
   "id": "1a0c3f74",
   "metadata": {},
   "source": [
    "## 형태소 분석과 토크나이즈\n",
    "### 위 두 개를 Word2Vec 모델로 유사도 비교"
   ]
  },
  {
   "cell_type": "code",
   "execution_count": 1,
   "id": "c62ad26c",
   "metadata": {},
   "outputs": [],
   "source": [
    "import os\n",
    "import numpy as np\n",
    "\n",
    "import pandas as pd\n",
    "import matplotlib.pyplot as plt\n",
    "import seaborn as sns\n",
    "#################################\n",
    "import nltk\n",
    "import re\n",
    "import time\n",
    "from nltk.tokenize import word_tokenize\n",
    "import konlpy\n",
    "\n",
    "from gensim.models import Word2Vec\n",
    "from gensim.models import KeyedVectors\n",
    "from konlpy.tag import Hannanum"
   ]
  },
  {
   "cell_type": "code",
   "execution_count": 7,
   "id": "5f828345",
   "metadata": {},
   "outputs": [
    {
     "data": {
      "text/html": [
       "<div>\n",
       "<style scoped>\n",
       "    .dataframe tbody tr th:only-of-type {\n",
       "        vertical-align: middle;\n",
       "    }\n",
       "\n",
       "    .dataframe tbody tr th {\n",
       "        vertical-align: top;\n",
       "    }\n",
       "\n",
       "    .dataframe thead th {\n",
       "        text-align: right;\n",
       "    }\n",
       "</style>\n",
       "<table border=\"1\" class=\"dataframe\">\n",
       "  <thead>\n",
       "    <tr style=\"text-align: right;\">\n",
       "      <th></th>\n",
       "      <th>content</th>\n",
       "      <th>label</th>\n",
       "    </tr>\n",
       "  </thead>\n",
       "  <tbody>\n",
       "    <tr>\n",
       "      <th>0</th>\n",
       "      <td>이종석 한효주 나오는 드라마 이후로 드라마 안봤다. 2년전인가?? 좀 신선했었지. ...</td>\n",
       "      <td>1</td>\n",
       "    </tr>\n",
       "    <tr>\n",
       "      <th>1</th>\n",
       "      <td>씨바알..노무노무 술프노... 오늘 저녁은 꽂등심이다ㅠㅜ</td>\n",
       "      <td>0</td>\n",
       "    </tr>\n",
       "    <tr>\n",
       "      <th>2</th>\n",
       "      <td>짱깨 꺼라ㅡ패쓰</td>\n",
       "      <td>1</td>\n",
       "    </tr>\n",
       "    <tr>\n",
       "      <th>3</th>\n",
       "      <td>그들의 사생활 ~ 고인이된 설리를 위해서라도 모두 조용하길 지금 누굴 탓한다고 무슨...</td>\n",
       "      <td>1</td>\n",
       "    </tr>\n",
       "    <tr>\n",
       "      <th>4</th>\n",
       "      <td>아무리 법이 뭣같아도 무슨 자격으로 개인의 신상정보를 불특정 다수에게 공개하는지 도...</td>\n",
       "      <td>1</td>\n",
       "    </tr>\n",
       "    <tr>\n",
       "      <th>...</th>\n",
       "      <td>...</td>\n",
       "      <td>...</td>\n",
       "    </tr>\n",
       "    <tr>\n",
       "      <th>57561</th>\n",
       "      <td>니가 누구랑 사귀든 관심 없다 병신년아 얼굴에 주사맞은년이 ㅋㅋ 에휴 역겨워</td>\n",
       "      <td>0</td>\n",
       "    </tr>\n",
       "    <tr>\n",
       "      <th>57562</th>\n",
       "      <td>다른 멤버들은 뭔 죄냐 ㅋㅋ</td>\n",
       "      <td>1</td>\n",
       "    </tr>\n",
       "    <tr>\n",
       "      <th>57563</th>\n",
       "      <td>정말 잘 돌리겠다. 왕새우에 올라가 꽆고 좌회전우회전.</td>\n",
       "      <td>0</td>\n",
       "    </tr>\n",
       "    <tr>\n",
       "      <th>57564</th>\n",
       "      <td>대체 이걸 왜 알아야하지?기레기야 그렇게 할일이 없냐?</td>\n",
       "      <td>0</td>\n",
       "    </tr>\n",
       "    <tr>\n",
       "      <th>57565</th>\n",
       "      <td>군대나 가라 검머외.우리나라 참 좋아.검머외도 이렇게 금의환향해주고말야.</td>\n",
       "      <td>0</td>\n",
       "    </tr>\n",
       "  </tbody>\n",
       "</table>\n",
       "<p>57566 rows × 2 columns</p>\n",
       "</div>"
      ],
      "text/plain": [
       "                                                 content  label\n",
       "0      이종석 한효주 나오는 드라마 이후로 드라마 안봤다. 2년전인가?? 좀 신선했었지. ...      1\n",
       "1                        씨바알..노무노무 술프노... 오늘 저녁은 꽂등심이다ㅠㅜ      0\n",
       "2                                               짱깨 꺼라ㅡ패쓰      1\n",
       "3      그들의 사생활 ~ 고인이된 설리를 위해서라도 모두 조용하길 지금 누굴 탓한다고 무슨...      1\n",
       "4      아무리 법이 뭣같아도 무슨 자격으로 개인의 신상정보를 불특정 다수에게 공개하는지 도...      1\n",
       "...                                                  ...    ...\n",
       "57561         니가 누구랑 사귀든 관심 없다 병신년아 얼굴에 주사맞은년이 ㅋㅋ 에휴 역겨워      0\n",
       "57562                                    다른 멤버들은 뭔 죄냐 ㅋㅋ      1\n",
       "57563                     정말 잘 돌리겠다. 왕새우에 올라가 꽆고 좌회전우회전.      0\n",
       "57564                     대체 이걸 왜 알아야하지?기레기야 그렇게 할일이 없냐?      0\n",
       "57565           군대나 가라 검머외.우리나라 참 좋아.검머외도 이렇게 금의환향해주고말야.      0\n",
       "\n",
       "[57566 rows x 2 columns]"
      ]
     },
     "execution_count": 7,
     "metadata": {},
     "output_type": "execute_result"
    }
   ],
   "source": [
    "data_path = './all_data.tsv'\n",
    "data = pd.read_csv(data_path,sep='\\t', encoding ='utf8')\n",
    "data"
   ]
  },
  {
   "cell_type": "code",
   "execution_count": 8,
   "id": "d5eea292",
   "metadata": {
    "scrolled": true
   },
   "outputs": [
    {
     "data": {
      "text/plain": [
       "content    False\n",
       "label      False\n",
       "dtype: bool"
      ]
     },
     "execution_count": 8,
     "metadata": {},
     "output_type": "execute_result"
    }
   ],
   "source": [
    "data.isnull().any() # or data.isnull().values.any()"
   ]
  },
  {
   "cell_type": "code",
   "execution_count": 9,
   "id": "9f6d54b0",
   "metadata": {
    "scrolled": true
   },
   "outputs": [
    {
     "name": "stdout",
     "output_type": "stream",
     "text": [
      "content    38107\n",
      "label          2\n",
      "dtype: int64\n"
     ]
    }
   ],
   "source": [
    "print(data.nunique()) #unique한 값이 몇 개 있는지"
   ]
  },
  {
   "cell_type": "code",
   "execution_count": 10,
   "id": "6416aae3",
   "metadata": {},
   "outputs": [],
   "source": [
    "data.drop_duplicates(subset=['content'], inplace=True, keep='first')  #last or False -> 디폴트는 false인가 그런데, 이러면 중복이 다 제거됨."
   ]
  },
  {
   "cell_type": "code",
   "execution_count": 11,
   "id": "88f20459",
   "metadata": {},
   "outputs": [
    {
     "data": {
      "text/html": [
       "<div>\n",
       "<style scoped>\n",
       "    .dataframe tbody tr th:only-of-type {\n",
       "        vertical-align: middle;\n",
       "    }\n",
       "\n",
       "    .dataframe tbody tr th {\n",
       "        vertical-align: top;\n",
       "    }\n",
       "\n",
       "    .dataframe thead th {\n",
       "        text-align: right;\n",
       "    }\n",
       "</style>\n",
       "<table border=\"1\" class=\"dataframe\">\n",
       "  <thead>\n",
       "    <tr style=\"text-align: right;\">\n",
       "      <th></th>\n",
       "      <th>content</th>\n",
       "      <th>label</th>\n",
       "    </tr>\n",
       "  </thead>\n",
       "  <tbody>\n",
       "    <tr>\n",
       "      <th>0</th>\n",
       "      <td>이종석 한효주 나오는 드라마 이후로 드라마 안봤다. 2년전인가?? 좀 신선했었지. ...</td>\n",
       "      <td>1</td>\n",
       "    </tr>\n",
       "    <tr>\n",
       "      <th>1</th>\n",
       "      <td>씨바알..노무노무 술프노... 오늘 저녁은 꽂등심이다ㅠㅜ</td>\n",
       "      <td>0</td>\n",
       "    </tr>\n",
       "    <tr>\n",
       "      <th>2</th>\n",
       "      <td>짱깨 꺼라ㅡ패쓰</td>\n",
       "      <td>1</td>\n",
       "    </tr>\n",
       "    <tr>\n",
       "      <th>3</th>\n",
       "      <td>그들의 사생활 ~ 고인이된 설리를 위해서라도 모두 조용하길 지금 누굴 탓한다고 무슨...</td>\n",
       "      <td>1</td>\n",
       "    </tr>\n",
       "    <tr>\n",
       "      <th>4</th>\n",
       "      <td>아무리 법이 뭣같아도 무슨 자격으로 개인의 신상정보를 불특정 다수에게 공개하는지 도...</td>\n",
       "      <td>1</td>\n",
       "    </tr>\n",
       "    <tr>\n",
       "      <th>...</th>\n",
       "      <td>...</td>\n",
       "      <td>...</td>\n",
       "    </tr>\n",
       "    <tr>\n",
       "      <th>57012</th>\n",
       "      <td>기다렸어요!! 또 먹을준비됐나 내 위장 ???🤔</td>\n",
       "      <td>1</td>\n",
       "    </tr>\n",
       "    <tr>\n",
       "      <th>57356</th>\n",
       "      <td>1500만원 무식한 새끼는 ㅁㅈㅎ</td>\n",
       "      <td>0</td>\n",
       "    </tr>\n",
       "    <tr>\n",
       "      <th>57471</th>\n",
       "      <td>그래서 나 피씨방에서 로그인할때아이디가 ilbe비번이 nomuhyun 이면아이디의 ...</td>\n",
       "      <td>0</td>\n",
       "    </tr>\n",
       "    <tr>\n",
       "      <th>57475</th>\n",
       "      <td>핀란드식 사우나는 옥상에 있을래나? 사실 그것만 탐이남! 그외 우리 온돌방식이 👍</td>\n",
       "      <td>1</td>\n",
       "    </tr>\n",
       "    <tr>\n",
       "      <th>57550</th>\n",
       "      <td>근데 남자가 억지로 남자의 후장에 삽입이 가능함?그게 힘으로 제압했다 해도 괄약근 ...</td>\n",
       "      <td>0</td>\n",
       "    </tr>\n",
       "  </tbody>\n",
       "</table>\n",
       "<p>38107 rows × 2 columns</p>\n",
       "</div>"
      ],
      "text/plain": [
       "                                                 content  label\n",
       "0      이종석 한효주 나오는 드라마 이후로 드라마 안봤다. 2년전인가?? 좀 신선했었지. ...      1\n",
       "1                        씨바알..노무노무 술프노... 오늘 저녁은 꽂등심이다ㅠㅜ      0\n",
       "2                                               짱깨 꺼라ㅡ패쓰      1\n",
       "3      그들의 사생활 ~ 고인이된 설리를 위해서라도 모두 조용하길 지금 누굴 탓한다고 무슨...      1\n",
       "4      아무리 법이 뭣같아도 무슨 자격으로 개인의 신상정보를 불특정 다수에게 공개하는지 도...      1\n",
       "...                                                  ...    ...\n",
       "57012                         기다렸어요!! 또 먹을준비됐나 내 위장 ???🤔      1\n",
       "57356                                 1500만원 무식한 새끼는 ㅁㅈㅎ      0\n",
       "57471  그래서 나 피씨방에서 로그인할때아이디가 ilbe비번이 nomuhyun 이면아이디의 ...      0\n",
       "57475      핀란드식 사우나는 옥상에 있을래나? 사실 그것만 탐이남! 그외 우리 온돌방식이 👍      1\n",
       "57550  근데 남자가 억지로 남자의 후장에 삽입이 가능함?그게 힘으로 제압했다 해도 괄약근 ...      0\n",
       "\n",
       "[38107 rows x 2 columns]"
      ]
     },
     "execution_count": 11,
     "metadata": {},
     "output_type": "execute_result"
    }
   ],
   "source": [
    "data"
   ]
  },
  {
   "cell_type": "code",
   "execution_count": null,
   "id": "e49e3cd3",
   "metadata": {},
   "outputs": [],
   "source": [
    "#특수기호 구두점 등 제거\n",
    "\n",
    "normalized_text=[]\n",
    "\n",
    "for string in data['content']: \n",
    "    normalized_text.append(string)\n",
    "\n",
    "normalized_text[1000]"
   ]
  },
  {
   "cell_type": "code",
   "execution_count": null,
   "id": "2481533d",
   "metadata": {},
   "outputs": [],
   "source": [
    "result=[word_tokenize(sentence) for sentence in normalized_text]\n",
    "\n",
    "result[1000]"
   ]
  },
  {
   "cell_type": "code",
   "execution_count": null,
   "id": "7d75f91b",
   "metadata": {},
   "outputs": [],
   "source": [
    "hnn=Hannanum()"
   ]
  },
  {
   "cell_type": "code",
   "execution_count": null,
   "id": "b753d4de",
   "metadata": {},
   "outputs": [],
   "source": [
    "print(hnn.morphs(normalized_text[1000]))"
   ]
  },
  {
   "cell_type": "code",
   "execution_count": null,
   "id": "c8217e76",
   "metadata": {},
   "outputs": [],
   "source": [
    "result[1000:1003]"
   ]
  },
  {
   "cell_type": "code",
   "execution_count": null,
   "id": "614ba39b",
   "metadata": {},
   "outputs": [],
   "source": [
    "model2=Word2Vec(sg=0, vector_size=100, window=5, min_count=1, workers=4)\n",
    "model2.build_vocab(result[1000:1003])\n",
    "model2.train(result, total_examples=len(result[1000:1003]), epochs=10)"
   ]
  },
  {
   "cell_type": "code",
   "execution_count": null,
   "id": "5224cc08",
   "metadata": {},
   "outputs": [],
   "source": [
    "model2.wv.most_similar('망할', topn=5)"
   ]
  },
  {
   "cell_type": "code",
   "execution_count": null,
   "id": "f84f0e39",
   "metadata": {},
   "outputs": [],
   "source": [
    "result2=[hnn.morphs(sentence) for sentence in normalized_text]"
   ]
  },
  {
   "cell_type": "code",
   "execution_count": null,
   "id": "a3be49ef",
   "metadata": {},
   "outputs": [],
   "source": [
    "model=Word2Vec(sg=0, vector_size=100, window=5, min_count=1, workers=4)\n",
    "model.build_vocab(result2[1000:1003])\n",
    "model.train(result2, total_examples=len(result2[1000:1003]), epochs=10)"
   ]
  },
  {
   "cell_type": "code",
   "execution_count": null,
   "id": "d1921a36",
   "metadata": {},
   "outputs": [],
   "source": [
    "result2[1000:1003]"
   ]
  },
  {
   "cell_type": "code",
   "execution_count": null,
   "id": "3fd4a85a",
   "metadata": {},
   "outputs": [],
   "source": [
    "model.wv.most_similar('사회주의', topn=5)"
   ]
  },
  {
   "cell_type": "code",
   "execution_count": null,
   "id": "59fb17c3",
   "metadata": {},
   "outputs": [],
   "source": [
    "result2[1000:1003]"
   ]
  },
  {
   "cell_type": "code",
   "execution_count": null,
   "id": "6f7c862f",
   "metadata": {},
   "outputs": [],
   "source": [
    "model.wv.most_similar('사회주의', topn=5)"
   ]
  }
 ],
 "metadata": {
  "kernelspec": {
   "display_name": "Python 3 (ipykernel)",
   "language": "python",
   "name": "python3"
  },
  "language_info": {
   "codemirror_mode": {
    "name": "ipython",
    "version": 3
   },
   "file_extension": ".py",
   "mimetype": "text/x-python",
   "name": "python",
   "nbconvert_exporter": "python",
   "pygments_lexer": "ipython3",
   "version": "3.9.7"
  }
 },
 "nbformat": 4,
 "nbformat_minor": 5
}
